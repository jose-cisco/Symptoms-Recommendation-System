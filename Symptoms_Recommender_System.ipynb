{
  "cells": [
    {
      "cell_type": "markdown",
      "metadata": {
        "id": "_E4BmVTM33Da"
      },
      "source": [
        "**Connect Through SQLite Database**"
      ]
    },
    {
      "cell_type": "code",
      "execution_count": 1,
      "metadata": {
        "id": "LQ35I50gfyx9"
      },
      "outputs": [],
      "source": [
        "import sqlite3\n",
        "import pandas as pd\n",
        "import numpy as np\n",
        "import matplotlib.pyplot as plt\n",
        "import seaborn as sns\n",
        "import warnings\n",
        "warnings.filterwarnings('ignore')\n",
        "from sklearn.preprocessing import MinMaxScaler\n",
        "from mlxtend.frequent_patterns import apriori\n",
        "from mlxtend.frequent_patterns import association_rules"
      ]
    },
    {
      "cell_type": "code",
      "execution_count": 2,
      "metadata": {},
      "outputs": [],
      "source": [
        "#Establish a connection\n",
        "connection = sqlite3.connect('Symptoms Database.db')\n",
        "# Create a cursor object\n",
        "cursor = connection.cursor()"
      ]
    },
    {
      "cell_type": "code",
      "execution_count": 3,
      "metadata": {},
      "outputs": [
        {
          "name": "stdout",
          "output_type": "stream",
          "text": [
            "   gender age                                            summary  \\\n",
            "0    male  28  {\"diseases\": [], \"procedures\": [], \"no_symptom...   \n",
            "1    male  27  {\"diseases\": [], \"procedures\": [], \"no_symptom...   \n",
            "2  female  26  {\"diseases\": [], \"procedures\": [], \"no_symptom...   \n",
            "3    male  42  {\"diseases\": [], \"procedures\": [], \"no_symptom...   \n",
            "4  female  40  {\"diseases\": [], \"procedures\": [], \"no_symptom...   \n",
            "\n",
            "     search_term  \n",
            "0    มีเสมหะ, ไอ  \n",
            "1  ไอ, น้ำมูกไหล  \n",
            "2        ปวดท้อง  \n",
            "3      น้ำมูกไหล  \n",
            "4         ตาแห้ง  \n"
          ]
        }
      ],
      "source": [
        "# Fetch data from the database\n",
        "query = \"SELECT * FROM ai_symptom_picker\"\n",
        "data = pd.read_sql_query(query, connection)\n",
        "# Display the first few rows of the dataframe\n",
        "print(data.head())"
      ]
    },
    {
      "cell_type": "code",
      "execution_count": 4,
      "metadata": {},
      "outputs": [
        {
          "data": {
            "text/html": [
              "<div>\n",
              "<style scoped>\n",
              "    .dataframe tbody tr th:only-of-type {\n",
              "        vertical-align: middle;\n",
              "    }\n",
              "\n",
              "    .dataframe tbody tr th {\n",
              "        vertical-align: top;\n",
              "    }\n",
              "\n",
              "    .dataframe thead th {\n",
              "        text-align: right;\n",
              "    }\n",
              "</style>\n",
              "<table border=\"1\" class=\"dataframe\">\n",
              "  <thead>\n",
              "    <tr style=\"text-align: right;\">\n",
              "      <th></th>\n",
              "      <th>gender</th>\n",
              "      <th>age</th>\n",
              "      <th>summary</th>\n",
              "      <th>search_term</th>\n",
              "    </tr>\n",
              "  </thead>\n",
              "  <tbody>\n",
              "    <tr>\n",
              "      <th>0</th>\n",
              "      <td>male</td>\n",
              "      <td>28</td>\n",
              "      <td>{\"diseases\": [], \"procedures\": [], \"no_symptom...</td>\n",
              "      <td>มีเสมหะ, ไอ</td>\n",
              "    </tr>\n",
              "    <tr>\n",
              "      <th>1</th>\n",
              "      <td>male</td>\n",
              "      <td>27</td>\n",
              "      <td>{\"diseases\": [], \"procedures\": [], \"no_symptom...</td>\n",
              "      <td>ไอ, น้ำมูกไหล</td>\n",
              "    </tr>\n",
              "    <tr>\n",
              "      <th>2</th>\n",
              "      <td>female</td>\n",
              "      <td>26</td>\n",
              "      <td>{\"diseases\": [], \"procedures\": [], \"no_symptom...</td>\n",
              "      <td>ปวดท้อง</td>\n",
              "    </tr>\n",
              "    <tr>\n",
              "      <th>3</th>\n",
              "      <td>male</td>\n",
              "      <td>42</td>\n",
              "      <td>{\"diseases\": [], \"procedures\": [], \"no_symptom...</td>\n",
              "      <td>น้ำมูกไหล</td>\n",
              "    </tr>\n",
              "    <tr>\n",
              "      <th>4</th>\n",
              "      <td>female</td>\n",
              "      <td>40</td>\n",
              "      <td>{\"diseases\": [], \"procedures\": [], \"no_symptom...</td>\n",
              "      <td>ตาแห้ง</td>\n",
              "    </tr>\n",
              "    <tr>\n",
              "      <th>...</th>\n",
              "      <td>...</td>\n",
              "      <td>...</td>\n",
              "      <td>...</td>\n",
              "      <td>...</td>\n",
              "    </tr>\n",
              "    <tr>\n",
              "      <th>995</th>\n",
              "      <td>male</td>\n",
              "      <td>38</td>\n",
              "      <td>{\"diseases\": [], \"procedures\": [], \"no_symptom...</td>\n",
              "      <td>บวม, ปวดข้อ</td>\n",
              "    </tr>\n",
              "    <tr>\n",
              "      <th>996</th>\n",
              "      <td>male</td>\n",
              "      <td>33</td>\n",
              "      <td>{\"diseases\": [], \"procedures\": [], \"no_symptom...</td>\n",
              "      <td>เจ็บคอ</td>\n",
              "    </tr>\n",
              "    <tr>\n",
              "      <th>997</th>\n",
              "      <td>male</td>\n",
              "      <td>45</td>\n",
              "      <td>{\"diseases\": [], \"procedures\": [], \"no_symptom...</td>\n",
              "      <td>ไข้</td>\n",
              "    </tr>\n",
              "    <tr>\n",
              "      <th>998</th>\n",
              "      <td>female</td>\n",
              "      <td>73</td>\n",
              "      <td>{\"diseases\": [], \"procedures\": [], \"no_symptom...</td>\n",
              "      <td>ไข้</td>\n",
              "    </tr>\n",
              "    <tr>\n",
              "      <th>999</th>\n",
              "      <td>male</td>\n",
              "      <td>31</td>\n",
              "      <td>{\"diseases\": [], \"procedures\": [], \"no_symptom...</td>\n",
              "      <td>ผื่น</td>\n",
              "    </tr>\n",
              "  </tbody>\n",
              "</table>\n",
              "<p>1000 rows × 4 columns</p>\n",
              "</div>"
            ],
            "text/plain": [
              "     gender age                                            summary  \\\n",
              "0      male  28  {\"diseases\": [], \"procedures\": [], \"no_symptom...   \n",
              "1      male  27  {\"diseases\": [], \"procedures\": [], \"no_symptom...   \n",
              "2    female  26  {\"diseases\": [], \"procedures\": [], \"no_symptom...   \n",
              "3      male  42  {\"diseases\": [], \"procedures\": [], \"no_symptom...   \n",
              "4    female  40  {\"diseases\": [], \"procedures\": [], \"no_symptom...   \n",
              "..      ...  ..                                                ...   \n",
              "995    male  38  {\"diseases\": [], \"procedures\": [], \"no_symptom...   \n",
              "996    male  33  {\"diseases\": [], \"procedures\": [], \"no_symptom...   \n",
              "997    male  45  {\"diseases\": [], \"procedures\": [], \"no_symptom...   \n",
              "998  female  73  {\"diseases\": [], \"procedures\": [], \"no_symptom...   \n",
              "999    male  31  {\"diseases\": [], \"procedures\": [], \"no_symptom...   \n",
              "\n",
              "       search_term  \n",
              "0      มีเสมหะ, ไอ  \n",
              "1    ไอ, น้ำมูกไหล  \n",
              "2          ปวดท้อง  \n",
              "3        น้ำมูกไหล  \n",
              "4           ตาแห้ง  \n",
              "..             ...  \n",
              "995    บวม, ปวดข้อ  \n",
              "996         เจ็บคอ  \n",
              "997            ไข้  \n",
              "998            ไข้  \n",
              "999           ผื่น  \n",
              "\n",
              "[1000 rows x 4 columns]"
            ]
          },
          "execution_count": 4,
          "metadata": {},
          "output_type": "execute_result"
        }
      ],
      "source": [
        "Symptoms = data\n",
        "Symptoms"
      ]
    },
    {
      "cell_type": "code",
      "execution_count": 5,
      "metadata": {
        "colab": {
          "base_uri": "https://localhost:8080/",
          "height": 206
        },
        "id": "ynupmvV7meFD",
        "outputId": "e6b7c62b-ff8d-4a26-8663-b0fd5d4ba150"
      },
      "outputs": [
        {
          "data": {
            "text/html": [
              "<div>\n",
              "<style scoped>\n",
              "    .dataframe tbody tr th:only-of-type {\n",
              "        vertical-align: middle;\n",
              "    }\n",
              "\n",
              "    .dataframe tbody tr th {\n",
              "        vertical-align: top;\n",
              "    }\n",
              "\n",
              "    .dataframe thead th {\n",
              "        text-align: right;\n",
              "    }\n",
              "</style>\n",
              "<table border=\"1\" class=\"dataframe\">\n",
              "  <thead>\n",
              "    <tr style=\"text-align: right;\">\n",
              "      <th></th>\n",
              "      <th>gender</th>\n",
              "      <th>age</th>\n",
              "      <th>summary</th>\n",
              "      <th>search_term</th>\n",
              "    </tr>\n",
              "  </thead>\n",
              "  <tbody>\n",
              "    <tr>\n",
              "      <th>0</th>\n",
              "      <td>male</td>\n",
              "      <td>28</td>\n",
              "      <td>{\"diseases\": [], \"procedures\": [], \"no_symptom...</td>\n",
              "      <td>มีเสมหะ, ไอ</td>\n",
              "    </tr>\n",
              "    <tr>\n",
              "      <th>1</th>\n",
              "      <td>male</td>\n",
              "      <td>27</td>\n",
              "      <td>{\"diseases\": [], \"procedures\": [], \"no_symptom...</td>\n",
              "      <td>ไอ, น้ำมูกไหล</td>\n",
              "    </tr>\n",
              "    <tr>\n",
              "      <th>2</th>\n",
              "      <td>female</td>\n",
              "      <td>26</td>\n",
              "      <td>{\"diseases\": [], \"procedures\": [], \"no_symptom...</td>\n",
              "      <td>ปวดท้อง</td>\n",
              "    </tr>\n",
              "    <tr>\n",
              "      <th>3</th>\n",
              "      <td>male</td>\n",
              "      <td>42</td>\n",
              "      <td>{\"diseases\": [], \"procedures\": [], \"no_symptom...</td>\n",
              "      <td>น้ำมูกไหล</td>\n",
              "    </tr>\n",
              "    <tr>\n",
              "      <th>4</th>\n",
              "      <td>female</td>\n",
              "      <td>40</td>\n",
              "      <td>{\"diseases\": [], \"procedures\": [], \"no_symptom...</td>\n",
              "      <td>ตาแห้ง</td>\n",
              "    </tr>\n",
              "  </tbody>\n",
              "</table>\n",
              "</div>"
            ],
            "text/plain": [
              "   gender age                                            summary  \\\n",
              "0    male  28  {\"diseases\": [], \"procedures\": [], \"no_symptom...   \n",
              "1    male  27  {\"diseases\": [], \"procedures\": [], \"no_symptom...   \n",
              "2  female  26  {\"diseases\": [], \"procedures\": [], \"no_symptom...   \n",
              "3    male  42  {\"diseases\": [], \"procedures\": [], \"no_symptom...   \n",
              "4  female  40  {\"diseases\": [], \"procedures\": [], \"no_symptom...   \n",
              "\n",
              "     search_term  \n",
              "0    มีเสมหะ, ไอ  \n",
              "1  ไอ, น้ำมูกไหล  \n",
              "2        ปวดท้อง  \n",
              "3      น้ำมูกไหล  \n",
              "4         ตาแห้ง  "
            ]
          },
          "execution_count": 5,
          "metadata": {},
          "output_type": "execute_result"
        }
      ],
      "source": [
        "Symptoms.head()"
      ]
    },
    {
      "cell_type": "markdown",
      "metadata": {
        "id": "HR-AtrgsGUyz"
      },
      "source": [
        "# **Extract Text**"
      ]
    },
    {
      "cell_type": "code",
      "execution_count": 6,
      "metadata": {
        "id": "3IS3HYuS6X8U"
      },
      "outputs": [],
      "source": [
        "def extract_answers(summary):\n",
        "    \"\"\"\n",
        "    Extracts the 'answers' values from the 'yes_symptoms' list in a JSON-like string.\n",
        "    \"\"\"\n",
        "    try:\n",
        "        data = eval(summary)  # Evaluate the string as a Python dictionary\n",
        "        if isinstance(data, dict) and 'yes_symptoms' in data:\n",
        "            answers = []\n",
        "            for symptom in data['yes_symptoms']:\n",
        "                if 'answers' in symptom:\n",
        "                    answers.extend(symptom['answers'])\n",
        "            return ', '.join(answers)  # Join the answers with commas\n",
        "        else:\n",
        "            return None  # Return None if the structure is not as expected\n",
        "    except (SyntaxError, TypeError, KeyError):\n",
        "        return None  # Return None if there's an error parsing or accessing the data"
      ]
    },
    {
      "cell_type": "code",
      "execution_count": 7,
      "metadata": {
        "id": "AiE5S2576cnz"
      },
      "outputs": [],
      "source": [
        "def process_dataframe(df, summary_col='summary', symptoms_note_col='symptoms_note'):\n",
        "    \"\"\"\n",
        "    Processes a DataFrame to extract 'answers' and create a new 'symptoms_note' column.\n",
        "    \"\"\"\n",
        "    df[symptoms_note_col] = df[summary_col].apply(extract_answers)\n",
        "    return df"
      ]
    },
    {
      "cell_type": "code",
      "execution_count": 8,
      "metadata": {
        "id": "V6WQ9xzXE5fO"
      },
      "outputs": [],
      "source": [
        "# Process the DataFrame\n",
        "Symptoms = process_dataframe(Symptoms)"
      ]
    },
    {
      "cell_type": "code",
      "execution_count": 9,
      "metadata": {
        "colab": {
          "base_uri": "https://localhost:8080/",
          "height": 206
        },
        "id": "uiMoS4598r6V",
        "outputId": "12f082be-549f-43c9-f611-3a4076c2d10b"
      },
      "outputs": [
        {
          "data": {
            "text/html": [
              "<div>\n",
              "<style scoped>\n",
              "    .dataframe tbody tr th:only-of-type {\n",
              "        vertical-align: middle;\n",
              "    }\n",
              "\n",
              "    .dataframe tbody tr th {\n",
              "        vertical-align: top;\n",
              "    }\n",
              "\n",
              "    .dataframe thead th {\n",
              "        text-align: right;\n",
              "    }\n",
              "</style>\n",
              "<table border=\"1\" class=\"dataframe\">\n",
              "  <thead>\n",
              "    <tr style=\"text-align: right;\">\n",
              "      <th></th>\n",
              "      <th>gender</th>\n",
              "      <th>age</th>\n",
              "      <th>summary</th>\n",
              "      <th>search_term</th>\n",
              "      <th>symptoms_note</th>\n",
              "    </tr>\n",
              "  </thead>\n",
              "  <tbody>\n",
              "    <tr>\n",
              "      <th>0</th>\n",
              "      <td>male</td>\n",
              "      <td>28</td>\n",
              "      <td>{\"diseases\": [], \"procedures\": [], \"no_symptom...</td>\n",
              "      <td>มีเสมหะ, ไอ</td>\n",
              "      <td>ลักษณะ เสมหะเปลี่ยนสีเหลือง/เขียว, ระยะเวลา ไม...</td>\n",
              "    </tr>\n",
              "    <tr>\n",
              "      <th>1</th>\n",
              "      <td>male</td>\n",
              "      <td>27</td>\n",
              "      <td>{\"diseases\": [], \"procedures\": [], \"no_symptom...</td>\n",
              "      <td>ไอ, น้ำมูกไหล</td>\n",
              "      <td>ระยะเวลา 1-3 สัปดาห์, ลักษณะ ไอไม่มีเสมหะ ไอแห...</td>\n",
              "    </tr>\n",
              "    <tr>\n",
              "      <th>2</th>\n",
              "      <td>female</td>\n",
              "      <td>26</td>\n",
              "      <td>{\"diseases\": [], \"procedures\": [], \"no_symptom...</td>\n",
              "      <td>ปวดท้อง</td>\n",
              "      <td>บริเวณ รอบๆสะดือ, ระยะเวลา ตั้งแต่ 1 วัน ถึง 1...</td>\n",
              "    </tr>\n",
              "    <tr>\n",
              "      <th>3</th>\n",
              "      <td>male</td>\n",
              "      <td>42</td>\n",
              "      <td>{\"diseases\": [], \"procedures\": [], \"no_symptom...</td>\n",
              "      <td>น้ำมูกไหล</td>\n",
              "      <td>ระยะเวลา น้อยกว่า 10 วัน, ประวัติ ATK ยังไม่ได...</td>\n",
              "    </tr>\n",
              "    <tr>\n",
              "      <th>4</th>\n",
              "      <td>female</td>\n",
              "      <td>40</td>\n",
              "      <td>{\"diseases\": [], \"procedures\": [], \"no_symptom...</td>\n",
              "      <td>ตาแห้ง</td>\n",
              "      <td>การรักษาก่อนหน้า ไม่เคย</td>\n",
              "    </tr>\n",
              "  </tbody>\n",
              "</table>\n",
              "</div>"
            ],
            "text/plain": [
              "   gender age                                            summary  \\\n",
              "0    male  28  {\"diseases\": [], \"procedures\": [], \"no_symptom...   \n",
              "1    male  27  {\"diseases\": [], \"procedures\": [], \"no_symptom...   \n",
              "2  female  26  {\"diseases\": [], \"procedures\": [], \"no_symptom...   \n",
              "3    male  42  {\"diseases\": [], \"procedures\": [], \"no_symptom...   \n",
              "4  female  40  {\"diseases\": [], \"procedures\": [], \"no_symptom...   \n",
              "\n",
              "     search_term                                      symptoms_note  \n",
              "0    มีเสมหะ, ไอ  ลักษณะ เสมหะเปลี่ยนสีเหลือง/เขียว, ระยะเวลา ไม...  \n",
              "1  ไอ, น้ำมูกไหล  ระยะเวลา 1-3 สัปดาห์, ลักษณะ ไอไม่มีเสมหะ ไอแห...  \n",
              "2        ปวดท้อง  บริเวณ รอบๆสะดือ, ระยะเวลา ตั้งแต่ 1 วัน ถึง 1...  \n",
              "3      น้ำมูกไหล  ระยะเวลา น้อยกว่า 10 วัน, ประวัติ ATK ยังไม่ได...  \n",
              "4         ตาแห้ง                            การรักษาก่อนหน้า ไม่เคย  "
            ]
          },
          "execution_count": 9,
          "metadata": {},
          "output_type": "execute_result"
        }
      ],
      "source": [
        "Symptoms.head()"
      ]
    },
    {
      "cell_type": "code",
      "execution_count": 10,
      "metadata": {
        "colab": {
          "base_uri": "https://localhost:8080/"
        },
        "id": "uv5FiKUc_v1H",
        "outputId": "c16e0cc4-2bcd-447b-8d02-3910786af899"
      },
      "outputs": [
        {
          "name": "stdout",
          "output_type": "stream",
          "text": [
            "<class 'pandas.core.frame.DataFrame'>\n",
            "RangeIndex: 1000 entries, 0 to 999\n",
            "Data columns (total 5 columns):\n",
            " #   Column         Non-Null Count  Dtype \n",
            "---  ------         --------------  ----- \n",
            " 0   gender         1000 non-null   object\n",
            " 1   age            1000 non-null   object\n",
            " 2   summary        1000 non-null   object\n",
            " 3   search_term    1000 non-null   object\n",
            " 4   symptoms_note  1000 non-null   object\n",
            "dtypes: object(5)\n",
            "memory usage: 39.2+ KB\n"
          ]
        }
      ],
      "source": [
        "Symptoms.info()"
      ]
    },
    {
      "cell_type": "markdown",
      "metadata": {
        "id": "GPial8Uq1KpB"
      },
      "source": [
        "# **Association Rules** For extracting relevant symptoms and match them with symptom set"
      ]
    },
    {
      "cell_type": "code",
      "execution_count": 11,
      "metadata": {},
      "outputs": [],
      "source": [
        "def preprocess_symptoms(Symptoms):\n",
        "    # Handle NaN values in symptoms_note\n",
        "    Symptoms['symptoms_note'] = Symptoms['symptoms_note'].fillna('')\n",
        "    \n",
        "    # Split symptoms into list\n",
        "    Symptoms['symptoms_list'] = Symptoms['symptoms_note'].str.split(',')\n",
        "    \n",
        "    # Get unique symptoms - filter out empty strings and None values\n",
        "    all_symptoms = set()\n",
        "    for symptoms in Symptoms['symptoms_list']:\n",
        "        if isinstance(symptoms, list):\n",
        "            # Strip whitespace and filter out empty strings\n",
        "            cleaned_symptoms = [s.strip() for s in symptoms if s and s.strip()]\n",
        "            all_symptoms.update(cleaned_symptoms)\n",
        "    \n",
        "    # Create one-hot vectors manually\n",
        "    symptoms_encoded = pd.DataFrame(0, index=Symptoms.index, columns=list(all_symptoms))\n",
        "    \n",
        "    for idx, symptoms in enumerate(Symptoms['symptoms_list']):\n",
        "        if isinstance(symptoms, list):\n",
        "            for symptom in symptoms:\n",
        "                # Only process non-empty symptoms\n",
        "                if symptom and symptom.strip():\n",
        "                    symptoms_encoded.loc[idx, symptom.strip()] = 1\n",
        "    \n",
        "    # Handle any remaining NaN values\n",
        "    symptoms_encoded = symptoms_encoded.fillna(0)\n",
        "    \n",
        "    # Apply min-max scaling\n",
        "    scaler = MinMaxScaler()\n",
        "    symptoms_scaled = pd.DataFrame(\n",
        "        scaler.fit_transform(symptoms_encoded),\n",
        "        columns=symptoms_encoded.columns\n",
        "    )\n",
        "    \n",
        "    return symptoms_scaled"
      ]
    },
    {
      "cell_type": "code",
      "execution_count": 12,
      "metadata": {},
      "outputs": [],
      "source": [
        "def generate_association_rules(symptoms_encoded, min_support=0.1, min_confidence=0.5):\n",
        "    # Find frequent itemsets\n",
        "    frequent_itemsets = apriori(symptoms_encoded, \n",
        "                              min_support=min_support, \n",
        "                              use_colnames=True)\n",
        "    \n",
        "    # Generate rules\n",
        "    rules = association_rules(frequent_itemsets, \n",
        "                            metric=\"confidence\", \n",
        "                            min_threshold=min_confidence)\n",
        "    \n",
        "    return rules"
      ]
    },
    {
      "cell_type": "code",
      "execution_count": 13,
      "metadata": {},
      "outputs": [],
      "source": [
        "def select_features(rules, symptoms_encoded, top_n=10):\n",
        "    # Select features based on lift score\n",
        "    important_features = rules.nlargest(top_n, 'lift')\n",
        "    selected_features = set()\n",
        "    \n",
        "    for _, row in important_features.iterrows():\n",
        "        selected_features.update(row['antecedents'])\n",
        "        selected_features.update(row['consequents'])\n",
        "    \n",
        "    return symptoms_encoded[list(selected_features)]"
      ]
    },
    {
      "cell_type": "code",
      "execution_count": 14,
      "metadata": {},
      "outputs": [],
      "source": [
        "# Main implementation\n",
        "def implement_symptom_analysis(Symptoms):\n",
        "    # Preprocess the data\n",
        "    symptoms_encoded = preprocess_symptoms(Symptoms)\n",
        "    \n",
        "    # Generate association rules\n",
        "    rules = generate_association_rules(symptoms_encoded)\n",
        "    \n",
        "    # Select important features\n",
        "    selected_features = select_features(rules, symptoms_encoded)\n",
        "    \n",
        "    print(\"Shape of encoded symptoms:\", symptoms_encoded.shape)\n",
        "    print(\"\\nNumber of association rules generated:\", len(rules))\n",
        "    print(\"\\nTop features by lift score:\", list(selected_features.columns))\n",
        "    \n",
        "    return rules, selected_features"
      ]
    },
    {
      "cell_type": "code",
      "execution_count": 15,
      "metadata": {},
      "outputs": [
        {
          "name": "stdout",
          "output_type": "stream",
          "text": [
            "Shape of encoded symptoms: (1000, 276)\n",
            "\n",
            "Number of association rules generated: 9\n",
            "\n",
            "Top features by lift score: ['ประวัติใกล้ชิดผู้ป่วยโควิด-19 ไม่ได้ใกล้ชิด', 'การรักษาก่อนหน้า ไม่เคย', 'ประวัติ ATK ยังไม่ได้ทำ']\n"
          ]
        },
        {
          "name": "stderr",
          "output_type": "stream",
          "text": [
            "d:\\Symptoms Recommendation\\.venv\\Lib\\site-packages\\mlxtend\\frequent_patterns\\fpcommon.py:161: DeprecationWarning: DataFrames with non-bool types result in worse computationalperformance and their support might be discontinued in the future.Please use a DataFrame with bool type\n",
            "  warnings.warn(\n"
          ]
        }
      ],
      "source": [
        "# Example usage\n",
        "rules, selected_features = implement_symptom_analysis(Symptoms)"
      ]
    },
    {
      "cell_type": "code",
      "execution_count": 16,
      "metadata": {},
      "outputs": [],
      "source": [
        "def find_associated_symptoms(input_symptom, Symptoms):\n",
        "    \"\"\"\n",
        "    Find associated symptoms for a specific symptom\n",
        "    \"\"\"\n",
        "    # Clean and prepare the data\n",
        "    symptoms_pairs = Symptoms[['symptoms_note', 'search_term']].dropna()\n",
        "    \n",
        "    # Find exact row matching the specific symptom\n",
        "    matching_row = symptoms_pairs[\n",
        "        symptoms_pairs['search_term'].str.contains(input_symptom, case=False, na=False) |\n",
        "        symptoms_pairs['symptoms_note'].str.contains(input_symptom, case=False, na=False)\n",
        "    ].iloc[0] if len(symptoms_pairs) > 0 else None\n",
        "    \n",
        "    if matching_row is not None:\n",
        "        # Extract all symptoms from the matching row\n",
        "        symptoms = str(matching_row['symptoms_note']).split(',')\n",
        "        symptoms = [s.strip() for s in symptoms if s.strip()]\n",
        "        \n",
        "        # Filter out the input symptom\n",
        "        associated_symptoms = [\n",
        "            s for s in symptoms \n",
        "            if input_symptom.lower() not in s.lower()\n",
        "        ]\n",
        "        \n",
        "        print(f\"\\nResults for '{input_symptom}':\")\n",
        "        print(f\"Search Term: {matching_row['search_term']}\")\n",
        "        print(\"Associated symptoms:\")\n",
        "        for symptom in associated_symptoms:\n",
        "            print(f\"- {symptom}\")\n",
        "        print(\"-\" * 50)\n",
        "        \n",
        "        return associated_symptoms\n",
        "    \n",
        "    return []"
      ]
    },
    {
      "cell_type": "code",
      "execution_count": 17,
      "metadata": {},
      "outputs": [
        {
          "name": "stdout",
          "output_type": "stream",
          "text": [
            "Case 1: ปวดท้อง\n",
            "\n",
            "Results for 'ปวดท้อง':\n",
            "Search Term: ปวดท้อง\n",
            "Associated symptoms:\n",
            "- บริเวณ รอบๆสะดือ\n",
            "- ระยะเวลา ตั้งแต่ 1 วัน ถึง 1 สัปดาห์\n",
            "- ระดับ ปวดจนไม่สามารถทำงานได้\n",
            "- การรักษาก่อนหน้า ไม่เคย\n",
            "--------------------------------------------------\n"
          ]
        }
      ],
      "source": [
        "# Test each case separately\n",
        "print(\"Case 1: ปวดท้อง\")\n",
        "case1 = find_associated_symptoms('ปวดท้อง', Symptoms)"
      ]
    },
    {
      "cell_type": "code",
      "execution_count": 18,
      "metadata": {},
      "outputs": [
        {
          "name": "stdout",
          "output_type": "stream",
          "text": [
            "\n",
            "Case 2: ไอ\n",
            "\n",
            "Results for 'ไอ':\n",
            "Search Term: มีเสมหะ, ไอ\n",
            "Associated symptoms:\n",
            "- ลักษณะ เสมหะเปลี่ยนสีเหลือง/เขียว\n",
            "- ระยะเวลา ไม่เกิน 1 สัปดาห์ (ไม่เกิน 7 วัน)\n",
            "- การรักษาก่อนหน้า ไม่เคย\n",
            "--------------------------------------------------\n"
          ]
        }
      ],
      "source": [
        "print(\"\\nCase 2: ไอ\")\n",
        "case2 = find_associated_symptoms('ไอ', Symptoms)"
      ]
    }
  ],
  "metadata": {
    "colab": {
      "provenance": []
    },
    "kernelspec": {
      "display_name": ".venv",
      "language": "python",
      "name": "python3"
    },
    "language_info": {
      "codemirror_mode": {
        "name": "ipython",
        "version": 3
      },
      "file_extension": ".py",
      "mimetype": "text/x-python",
      "name": "python",
      "nbconvert_exporter": "python",
      "pygments_lexer": "ipython3",
      "version": "3.13.3"
    },
    "widgets": {
      "application/vnd.jupyter.widget-state+json": {
        "2aba5a76aa3a4b91ba29f30b54652215": {
          "model_module": "@jupyter-widgets/base",
          "model_module_version": "1.2.0",
          "model_name": "LayoutModel",
          "state": {
            "_model_module": "@jupyter-widgets/base",
            "_model_module_version": "1.2.0",
            "_model_name": "LayoutModel",
            "_view_count": null,
            "_view_module": "@jupyter-widgets/base",
            "_view_module_version": "1.2.0",
            "_view_name": "LayoutView",
            "align_content": null,
            "align_items": null,
            "align_self": null,
            "border": null,
            "bottom": null,
            "display": null,
            "flex": null,
            "flex_flow": null,
            "grid_area": null,
            "grid_auto_columns": null,
            "grid_auto_flow": null,
            "grid_auto_rows": null,
            "grid_column": null,
            "grid_gap": null,
            "grid_row": null,
            "grid_template_areas": null,
            "grid_template_columns": null,
            "grid_template_rows": null,
            "height": null,
            "justify_content": null,
            "justify_items": null,
            "left": null,
            "margin": null,
            "max_height": null,
            "max_width": null,
            "min_height": null,
            "min_width": null,
            "object_fit": null,
            "object_position": null,
            "order": null,
            "overflow": null,
            "overflow_x": null,
            "overflow_y": null,
            "padding": null,
            "right": null,
            "top": null,
            "visibility": "hidden",
            "width": null
          }
        },
        "35bc44066240403081d91b2f61e8f1ab": {
          "model_module": "@jupyter-widgets/controls",
          "model_module_version": "1.5.0",
          "model_name": "FloatProgressModel",
          "state": {
            "_dom_classes": [],
            "_model_module": "@jupyter-widgets/controls",
            "_model_module_version": "1.5.0",
            "_model_name": "FloatProgressModel",
            "_view_count": null,
            "_view_module": "@jupyter-widgets/controls",
            "_view_module_version": "1.5.0",
            "_view_name": "ProgressView",
            "bar_style": "",
            "description": "",
            "description_tooltip": null,
            "layout": "IPY_MODEL_4cfebadf4873456688b81ceb703c1ee0",
            "max": 65,
            "min": 0,
            "orientation": "horizontal",
            "style": "IPY_MODEL_bb86e954fc564fa6a8c7ee702b9fd774",
            "value": 65
          }
        },
        "4cfebadf4873456688b81ceb703c1ee0": {
          "model_module": "@jupyter-widgets/base",
          "model_module_version": "1.2.0",
          "model_name": "LayoutModel",
          "state": {
            "_model_module": "@jupyter-widgets/base",
            "_model_module_version": "1.2.0",
            "_model_name": "LayoutModel",
            "_view_count": null,
            "_view_module": "@jupyter-widgets/base",
            "_view_module_version": "1.2.0",
            "_view_name": "LayoutView",
            "align_content": null,
            "align_items": null,
            "align_self": null,
            "border": null,
            "bottom": null,
            "display": null,
            "flex": null,
            "flex_flow": null,
            "grid_area": null,
            "grid_auto_columns": null,
            "grid_auto_flow": null,
            "grid_auto_rows": null,
            "grid_column": null,
            "grid_gap": null,
            "grid_row": null,
            "grid_template_areas": null,
            "grid_template_columns": null,
            "grid_template_rows": null,
            "height": null,
            "justify_content": null,
            "justify_items": null,
            "left": null,
            "margin": null,
            "max_height": null,
            "max_width": null,
            "min_height": null,
            "min_width": null,
            "object_fit": null,
            "object_position": null,
            "order": null,
            "overflow": null,
            "overflow_x": null,
            "overflow_y": null,
            "padding": null,
            "right": null,
            "top": null,
            "visibility": null,
            "width": null
          }
        },
        "86eaabaf747d472c916482ee7245d1ec": {
          "model_module": "@jupyter-widgets/base",
          "model_module_version": "1.2.0",
          "model_name": "LayoutModel",
          "state": {
            "_model_module": "@jupyter-widgets/base",
            "_model_module_version": "1.2.0",
            "_model_name": "LayoutModel",
            "_view_count": null,
            "_view_module": "@jupyter-widgets/base",
            "_view_module_version": "1.2.0",
            "_view_name": "LayoutView",
            "align_content": null,
            "align_items": null,
            "align_self": null,
            "border": null,
            "bottom": null,
            "display": null,
            "flex": null,
            "flex_flow": null,
            "grid_area": null,
            "grid_auto_columns": null,
            "grid_auto_flow": null,
            "grid_auto_rows": null,
            "grid_column": null,
            "grid_gap": null,
            "grid_row": null,
            "grid_template_areas": null,
            "grid_template_columns": null,
            "grid_template_rows": null,
            "height": null,
            "justify_content": null,
            "justify_items": null,
            "left": null,
            "margin": null,
            "max_height": null,
            "max_width": null,
            "min_height": null,
            "min_width": null,
            "object_fit": null,
            "object_position": null,
            "order": null,
            "overflow": null,
            "overflow_x": null,
            "overflow_y": null,
            "padding": null,
            "right": null,
            "top": null,
            "visibility": null,
            "width": null
          }
        },
        "aa2861555e814698a9ad982ee60d80fe": {
          "model_module": "@jupyter-widgets/controls",
          "model_module_version": "1.5.0",
          "model_name": "DescriptionStyleModel",
          "state": {
            "_model_module": "@jupyter-widgets/controls",
            "_model_module_version": "1.5.0",
            "_model_name": "DescriptionStyleModel",
            "_view_count": null,
            "_view_module": "@jupyter-widgets/base",
            "_view_module_version": "1.2.0",
            "_view_name": "StyleView",
            "description_width": ""
          }
        },
        "b37152eb2e4442e794b9687522dab638": {
          "model_module": "@jupyter-widgets/controls",
          "model_module_version": "1.5.0",
          "model_name": "HBoxModel",
          "state": {
            "_dom_classes": [],
            "_model_module": "@jupyter-widgets/controls",
            "_model_module_version": "1.5.0",
            "_model_name": "HBoxModel",
            "_view_count": null,
            "_view_module": "@jupyter-widgets/controls",
            "_view_module_version": "1.5.0",
            "_view_name": "HBoxView",
            "box_style": "",
            "children": [
              "IPY_MODEL_d0a00d8c2e8942338fe72752e4c333a9",
              "IPY_MODEL_35bc44066240403081d91b2f61e8f1ab",
              "IPY_MODEL_bad3810921e94f7e8d0c54f15bfb5d51"
            ],
            "layout": "IPY_MODEL_2aba5a76aa3a4b91ba29f30b54652215"
          }
        },
        "bad3810921e94f7e8d0c54f15bfb5d51": {
          "model_module": "@jupyter-widgets/controls",
          "model_module_version": "1.5.0",
          "model_name": "HTMLModel",
          "state": {
            "_dom_classes": [],
            "_model_module": "@jupyter-widgets/controls",
            "_model_module_version": "1.5.0",
            "_model_name": "HTMLModel",
            "_view_count": null,
            "_view_module": "@jupyter-widgets/controls",
            "_view_module_version": "1.5.0",
            "_view_name": "HTMLView",
            "description": "",
            "description_tooltip": null,
            "layout": "IPY_MODEL_86eaabaf747d472c916482ee7245d1ec",
            "placeholder": "​",
            "style": "IPY_MODEL_aa2861555e814698a9ad982ee60d80fe",
            "value": " 65/65 [06:46&lt;00:00,  4.04s/it]"
          }
        },
        "bb86e954fc564fa6a8c7ee702b9fd774": {
          "model_module": "@jupyter-widgets/controls",
          "model_module_version": "1.5.0",
          "model_name": "ProgressStyleModel",
          "state": {
            "_model_module": "@jupyter-widgets/controls",
            "_model_module_version": "1.5.0",
            "_model_name": "ProgressStyleModel",
            "_view_count": null,
            "_view_module": "@jupyter-widgets/base",
            "_view_module_version": "1.2.0",
            "_view_name": "StyleView",
            "bar_color": null,
            "description_width": ""
          }
        },
        "d0a00d8c2e8942338fe72752e4c333a9": {
          "model_module": "@jupyter-widgets/controls",
          "model_module_version": "1.5.0",
          "model_name": "HTMLModel",
          "state": {
            "_dom_classes": [],
            "_model_module": "@jupyter-widgets/controls",
            "_model_module_version": "1.5.0",
            "_model_name": "HTMLModel",
            "_view_count": null,
            "_view_module": "@jupyter-widgets/controls",
            "_view_module_version": "1.5.0",
            "_view_name": "HTMLView",
            "description": "",
            "description_tooltip": null,
            "layout": "IPY_MODEL_f646138f75464d519aac476b9d7058bb",
            "placeholder": "​",
            "style": "IPY_MODEL_e7a814382a194baab0c97887e97e1874",
            "value": "Processing: 100%"
          }
        },
        "e7a814382a194baab0c97887e97e1874": {
          "model_module": "@jupyter-widgets/controls",
          "model_module_version": "1.5.0",
          "model_name": "DescriptionStyleModel",
          "state": {
            "_model_module": "@jupyter-widgets/controls",
            "_model_module_version": "1.5.0",
            "_model_name": "DescriptionStyleModel",
            "_view_count": null,
            "_view_module": "@jupyter-widgets/base",
            "_view_module_version": "1.2.0",
            "_view_name": "StyleView",
            "description_width": ""
          }
        },
        "f646138f75464d519aac476b9d7058bb": {
          "model_module": "@jupyter-widgets/base",
          "model_module_version": "1.2.0",
          "model_name": "LayoutModel",
          "state": {
            "_model_module": "@jupyter-widgets/base",
            "_model_module_version": "1.2.0",
            "_model_name": "LayoutModel",
            "_view_count": null,
            "_view_module": "@jupyter-widgets/base",
            "_view_module_version": "1.2.0",
            "_view_name": "LayoutView",
            "align_content": null,
            "align_items": null,
            "align_self": null,
            "border": null,
            "bottom": null,
            "display": null,
            "flex": null,
            "flex_flow": null,
            "grid_area": null,
            "grid_auto_columns": null,
            "grid_auto_flow": null,
            "grid_auto_rows": null,
            "grid_column": null,
            "grid_gap": null,
            "grid_row": null,
            "grid_template_areas": null,
            "grid_template_columns": null,
            "grid_template_rows": null,
            "height": null,
            "justify_content": null,
            "justify_items": null,
            "left": null,
            "margin": null,
            "max_height": null,
            "max_width": null,
            "min_height": null,
            "min_width": null,
            "object_fit": null,
            "object_position": null,
            "order": null,
            "overflow": null,
            "overflow_x": null,
            "overflow_y": null,
            "padding": null,
            "right": null,
            "top": null,
            "visibility": null,
            "width": null
          }
        }
      }
    }
  },
  "nbformat": 4,
  "nbformat_minor": 0
}
